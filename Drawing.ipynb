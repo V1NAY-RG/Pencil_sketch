{
 "cells": [
  {
   "cell_type": "code",
   "execution_count": 1,
   "id": "43056b79",
   "metadata": {},
   "outputs": [],
   "source": [
    "import numpy as np\n",
    "import cv2"
   ]
  },
  {
   "cell_type": "code",
   "execution_count": 2,
   "id": "2a24ed2a",
   "metadata": {},
   "outputs": [],
   "source": [
    "img =cv2.imread('./images/avengers.jpg')"
   ]
  },
  {
   "cell_type": "code",
   "execution_count": 3,
   "id": "9c9b6435",
   "metadata": {},
   "outputs": [],
   "source": [
    "gray= cv2.cvtColor(img,cv2.COLOR_BGR2GRAY)"
   ]
  },
  {
   "cell_type": "code",
   "execution_count": 4,
   "id": "77c7fb47",
   "metadata": {},
   "outputs": [],
   "source": [
    "def pencil_sketch(img,ksize,gama):\n",
    "    gray=cv2.cvtColor(img,cv2.COLOR_BGR2GRAY)\n",
    "    blur=cv2.GaussianBlur(gray,(ksize,ksize),0)\n",
    "    division_img=cv2.divide(gray,blur,scale=256)\n",
    "    if gama==0:\n",
    "        gama=0.1\n",
    "    elif gama<0:\n",
    "        raise Exception('Cannot be negative','Gamma value cannot be negative number(range = 0-1)')\n",
    "    elif gama>1:\n",
    "        raise Exception('Cannot be greater than 1','gamma value cannot be greater than 1 (range = 0-1)')\n",
    "    invgama=1/gama\n",
    "    lut=np.array([((i/255)**invgama)*255 for i in range(0,256)])\n",
    "    pencil_sketch_img=cv2.LUT(division_img.astype('uint8'),lut.astype('uint8'))\n",
    "    return pencil_sketch_img"
   ]
  },
  {
   "cell_type": "code",
   "execution_count": 5,
   "id": "df620b02",
   "metadata": {},
   "outputs": [],
   "source": [
    "pencil_sketch_img = pencil_sketch(img,7,0.3)"
   ]
  },
  {
   "cell_type": "code",
   "execution_count": null,
   "id": "567d4733",
   "metadata": {},
   "outputs": [],
   "source": []
  },
  {
   "cell_type": "code",
   "execution_count": 6,
   "id": "aa11ccf3",
   "metadata": {},
   "outputs": [
    {
     "ename": "error",
     "evalue": "OpenCV(4.6.0) D:\\a\\opencv-python\\opencv-python\\opencv\\modules\\highgui\\src\\window_w32.cpp:2581: error: (-27:Null pointer) NULL window: 'Control Pannel' in function 'cvGetTrackbarPos'\n",
     "output_type": "error",
     "traceback": [
      "\u001b[1;31m---------------------------------------------------------------------------\u001b[0m",
      "\u001b[1;31merror\u001b[0m                                     Traceback (most recent call last)",
      "Input \u001b[1;32mIn [6]\u001b[0m, in \u001b[0;36m<cell line: 7>\u001b[1;34m()\u001b[0m\n\u001b[0;32m      4\u001b[0m cv2\u001b[38;5;241m.\u001b[39mcreateTrackbar(\u001b[38;5;124m'\u001b[39m\u001b[38;5;124mgamma\u001b[39m\u001b[38;5;124m'\u001b[39m,\u001b[38;5;124m'\u001b[39m\u001b[38;5;124mControl Pannel\u001b[39m\u001b[38;5;124m'\u001b[39m,\u001b[38;5;241m1\u001b[39m,\u001b[38;5;241m100\u001b[39m,(\u001b[38;5;28;01mlambda\u001b[39;00m x:\u001b[38;5;28;01mNone\u001b[39;00m))\n\u001b[0;32m      6\u001b[0m \u001b[38;5;28;01mwhile\u001b[39;00m \u001b[38;5;28;01mTrue\u001b[39;00m:\n\u001b[1;32m----> 7\u001b[0m     k\u001b[38;5;241m=\u001b[39m\u001b[43mcv2\u001b[49m\u001b[38;5;241;43m.\u001b[39;49m\u001b[43mgetTrackbarPos\u001b[49m\u001b[43m(\u001b[49m\u001b[38;5;124;43m'\u001b[39;49m\u001b[38;5;124;43mksize\u001b[39;49m\u001b[38;5;124;43m'\u001b[39;49m\u001b[43m,\u001b[49m\u001b[38;5;124;43m'\u001b[39;49m\u001b[38;5;124;43mControl Pannel\u001b[39;49m\u001b[38;5;124;43m'\u001b[39;49m\u001b[43m)\u001b[49m\n\u001b[0;32m      8\u001b[0m     k\u001b[38;5;241m=\u001b[39m\u001b[38;5;241m2\u001b[39m\u001b[38;5;241m*\u001b[39mk \u001b[38;5;241m+\u001b[39m \u001b[38;5;241m1\u001b[39m\n\u001b[0;32m      9\u001b[0m     g \u001b[38;5;241m=\u001b[39m cv2\u001b[38;5;241m.\u001b[39mgetTrackbarPos(\u001b[38;5;124m'\u001b[39m\u001b[38;5;124mgamma\u001b[39m\u001b[38;5;124m'\u001b[39m,\u001b[38;5;124m'\u001b[39m\u001b[38;5;124mControl Pannel\u001b[39m\u001b[38;5;124m'\u001b[39m)\n",
      "\u001b[1;31merror\u001b[0m: OpenCV(4.6.0) D:\\a\\opencv-python\\opencv-python\\opencv\\modules\\highgui\\src\\window_w32.cpp:2581: error: (-27:Null pointer) NULL window: 'Control Pannel' in function 'cvGetTrackbarPos'\n"
     ]
    }
   ],
   "source": [
    "image= cv2.imread('./images/avengers.jpg')\n",
    "cv2.namedWindow('Control Pannel')\n",
    "cv2.createTrackbar('ksize','Control Pannel',1,100,(lambda x:None))\n",
    "cv2.createTrackbar('gamma','Control Pannel',1,100,(lambda x:None))\n",
    "\n",
    "while True:\n",
    "    k=cv2.getTrackbarPos('ksize','Control Pannel')\n",
    "    k=2*k + 1\n",
    "    g = cv2.getTrackbarPos('gamma','Control Pannel')\n",
    "    g = g/100\n",
    "    pencil_img = pencil_sketch(image,k,g)\n",
    "    \n",
    "\n",
    "    cv2.imshow('original',image)\n",
    "    cv2.imshow('pencil sketch',pencil_img)\n",
    "    if cv2.waitKey(1) ==27:\n",
    "        break\n",
    "cv2.destroyAllWindows()"
   ]
  },
  {
   "cell_type": "code",
   "execution_count": null,
   "id": "88e05ca4",
   "metadata": {},
   "outputs": [],
   "source": []
  },
  {
   "cell_type": "code",
   "execution_count": null,
   "id": "2e753723",
   "metadata": {},
   "outputs": [],
   "source": []
  },
  {
   "cell_type": "code",
   "execution_count": null,
   "id": "ea688200",
   "metadata": {},
   "outputs": [],
   "source": []
  }
 ],
 "metadata": {
  "kernelspec": {
   "display_name": "Python 3 (ipykernel)",
   "language": "python",
   "name": "python3"
  },
  "language_info": {
   "codemirror_mode": {
    "name": "ipython",
    "version": 3
   },
   "file_extension": ".py",
   "mimetype": "text/x-python",
   "name": "python",
   "nbconvert_exporter": "python",
   "pygments_lexer": "ipython3",
   "version": "3.9.12"
  }
 },
 "nbformat": 4,
 "nbformat_minor": 5
}
